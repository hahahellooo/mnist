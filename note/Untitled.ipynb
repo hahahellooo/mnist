{
 "cells": [
  {
   "cell_type": "code",
   "execution_count": 37,
   "id": "a5ecb180-e014-4c62-97c0-44f593184928",
   "metadata": {},
   "outputs": [],
   "source": [
    "from tensorflow.keras.datasets import mnist\n",
    "from PIL import Image\n",
    "import os\n",
    "import numpy as np\n",
    "from keras.models import load_model"
   ]
  },
  {
   "cell_type": "code",
   "execution_count": 38,
   "id": "c345815d-8924-460d-b706-9acf4a4673d7",
   "metadata": {},
   "outputs": [],
   "source": [
    "model = load_model('mnist240924.keras') "
   ]
  },
  {
   "cell_type": "code",
   "execution_count": 41,
   "id": "17ea9be4-6864-4ec0-b1e7-5473dbe50577",
   "metadata": {},
   "outputs": [],
   "source": [
    "# 사용자 이미지 불러오기 및 전처리\n",
    "def preprocess_image(image_path):\n",
    "    img = Image.open(image_path).convert('L')  # 흑백 이미지로 변환\n",
    "    img = img.resize((28, 28))  # 크기 조정\n",
    "\n",
    "    # 흑백 반전\n",
    "    # img = 255 - np.array(img)  # 흑백 반전\n",
    "    img = np.array(img)\n",
    "    \n",
    "    img = img.reshape(1, 28, 28, 1)  # 모델 입력 형태에 맞게 변형\n",
    "    img = img / 255.0  # 정규화\n",
    "    return img\n",
    "\n",
    "# 예측\n",
    "\n",
    "def predict_digit(image_path):\n",
    "    img = preprocess_image(image_path)\n",
    "    prediction = model.predict(img)\n",
    "    digit = np.argmax(prediction)\n",
    "    return digit"
   ]
  },
  {
   "cell_type": "code",
   "execution_count": 42,
   "id": "7184166b-6471-4bc9-ad63-776c279aaf53",
   "metadata": {},
   "outputs": [],
   "source": [
    "(train_images, train_lables), (test_images, test_lables) = mnist.load_data()"
   ]
  },
  {
   "cell_type": "code",
   "execution_count": 43,
   "id": "7021decf-50b8-49ff-9caa-aa63fa7888ac",
   "metadata": {},
   "outputs": [
    {
     "data": {
      "text/plain": [
       "(60000, 28, 28)"
      ]
     },
     "execution_count": 43,
     "metadata": {},
     "output_type": "execute_result"
    }
   ],
   "source": [
    "train_images.shape"
   ]
  },
  {
   "cell_type": "code",
   "execution_count": 44,
   "id": "5313349d-d8fc-4999-80f6-f84715b2e60d",
   "metadata": {},
   "outputs": [
    {
     "name": "stdout",
     "output_type": "stream",
     "text": [
      "  0    0    0    0    0    0    0    0    0    0    0    0    0    0    0    0    0    0    0    0    0    0    0    0    0    0    0    0  \n",
      "  0    0    0    0    0    0    0    0    0    0    0    0    0    0    0    0    0    0    0    0    0    0    0    0    0    0    0    0  \n",
      "  0    0    0    0    0    0    0    0    0    0    0    0    0    0    0    0    0    0    0    0    0    0    0    0    0    0    0    0  \n",
      "  0    0    0    0    0    0    0    0    0    0    0    0    0    0    0    0    0    0    0    0    0    0    0    0    0    0    0    0  \n",
      "  0    0    0    0    0    0    0    0    0    0    0    0    0    0    0   51  159  253  159   50    0    0    0    0    0    0    0    0  \n",
      "  0    0    0    0    0    0    0    0    0    0    0    0    0    0   48  238  252  252  252  237    0    0    0    0    0    0    0    0  \n",
      "  0    0    0    0    0    0    0    0    0    0    0    0    0   54  227  253  252  239  233  252   57    6    0    0    0    0    0    0  \n",
      "  0    0    0    0    0    0    0    0    0    0    0   10   60  224  252  253  252  202   84  252  253  122    0    0    0    0    0    0  \n",
      "  0    0    0    0    0    0    0    0    0    0    0  163  252  252  252  253  252  252   96  189  253  167    0    0    0    0    0    0  \n",
      "  0    0    0    0    0    0    0    0    0    0   51  238  253  253  190  114  253  228   47   79  255  168    0    0    0    0    0    0  \n",
      "  0    0    0    0    0    0    0    0    0   48  238  252  252  179   12   75  121   21    0    0  253  243   50    0    0    0    0    0  \n",
      "  0    0    0    0    0    0    0    0   38  165  253  233  208   84    0    0    0    0    0    0  253  252  165    0    0    0    0    0  \n",
      "  0    0    0    0    0    0    0    7  178  252  240   71   19   28    0    0    0    0    0    0  253  252  195    0    0    0    0    0  \n",
      "  0    0    0    0    0    0    0   57  252  252   63    0    0    0    0    0    0    0    0    0  253  252  195    0    0    0    0    0  \n",
      "  0    0    0    0    0    0    0  198  253  190    0    0    0    0    0    0    0    0    0    0  255  253  196    0    0    0    0    0  \n",
      "  0    0    0    0    0    0   76  246  252  112    0    0    0    0    0    0    0    0    0    0  253  252  148    0    0    0    0    0  \n",
      "  0    0    0    0    0    0   85  252  230   25    0    0    0    0    0    0    0    0    7  135  253  186   12    0    0    0    0    0  \n",
      "  0    0    0    0    0    0   85  252  223    0    0    0    0    0    0    0    0    7  131  252  225   71    0    0    0    0    0    0  \n",
      "  0    0    0    0    0    0   85  252  145    0    0    0    0    0    0    0   48  165  252  173    0    0    0    0    0    0    0    0  \n",
      "  0    0    0    0    0    0   86  253  225    0    0    0    0    0    0  114  238  253  162    0    0    0    0    0    0    0    0    0  \n",
      "  0    0    0    0    0    0   85  252  249  146   48   29   85  178  225  253  223  167   56    0    0    0    0    0    0    0    0    0  \n",
      "  0    0    0    0    0    0   85  252  252  252  229  215  252  252  252  196  130    0    0    0    0    0    0    0    0    0    0    0  \n",
      "  0    0    0    0    0    0   28  199  252  252  253  252  252  233  145    0    0    0    0    0    0    0    0    0    0    0    0    0  \n",
      "  0    0    0    0    0    0    0   25  128  252  253  252  141   37    0    0    0    0    0    0    0    0    0    0    0    0    0    0  \n",
      "  0    0    0    0    0    0    0    0    0    0    0    0    0    0    0    0    0    0    0    0    0    0    0    0    0    0    0    0  \n",
      "  0    0    0    0    0    0    0    0    0    0    0    0    0    0    0    0    0    0    0    0    0    0    0    0    0    0    0    0  \n",
      "  0    0    0    0    0    0    0    0    0    0    0    0    0    0    0    0    0    0    0    0    0    0    0    0    0    0    0    0  \n",
      "  0    0    0    0    0    0    0    0    0    0    0    0    0    0    0    0    0    0    0    0    0    0    0    0    0    0    0    0  \n"
     ]
    }
   ],
   "source": [
    "for x in train_images[1]:\n",
    "\tfor i in x:\n",
    "\t\tprint('{:3} '.format(i), end=' ')\n",
    "\tprint()"
   ]
  },
  {
   "cell_type": "code",
   "execution_count": 45,
   "id": "f5bafc72-f51c-4b19-b2ec-cda78718caf0",
   "metadata": {},
   "outputs": [],
   "source": [
    "save_dir = 'train_img'\n",
    "os.makedirs(save_dir, exist_ok=True)\n",
    "def save_images(images, lables):\n",
    "    for i, (imgs, lable) in enumerate(zip(images, lables)):\n",
    "        img = Image.fromarray(imgs)\n",
    "        name = f'{lable}_{i}.png'\n",
    "        img.save(os.path.join(save_dir,name))\n",
    "save_images(train_images, train_lables)"
   ]
  },
  {
   "cell_type": "code",
   "execution_count": null,
   "id": "aab5e48d-8286-4fac-9b7b-83efd1f52a53",
   "metadata": {},
   "outputs": [],
   "source": []
  },
  {
   "cell_type": "code",
   "execution_count": null,
   "id": "eea98b3a-0447-483e-8d05-536ecb782aba",
   "metadata": {},
   "outputs": [],
   "source": []
  }
 ],
 "metadata": {
  "kernelspec": {
   "display_name": "Python 3 (ipykernel)",
   "language": "python",
   "name": "python3"
  },
  "language_info": {
   "codemirror_mode": {
    "name": "ipython",
    "version": 3
   },
   "file_extension": ".py",
   "mimetype": "text/x-python",
   "name": "python",
   "nbconvert_exporter": "python",
   "pygments_lexer": "ipython3",
   "version": "3.11.9"
  }
 },
 "nbformat": 4,
 "nbformat_minor": 5
}
